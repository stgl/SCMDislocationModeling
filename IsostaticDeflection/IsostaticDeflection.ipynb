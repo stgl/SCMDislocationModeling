{
 "cells": [
  {
   "cell_type": "markdown",
   "metadata": {},
   "source": [
    "# Isostatic deflection in 2D"
   ]
  },
  {
   "cell_type": "markdown",
   "metadata": {},
   "source": [
    "Source: Hodgetts et al. (1998). Flexural modelling of continental lithosphere deformation: a comparison of 2D and 3D techniques, Tectonophysics, 294, 1-2, p.1-2"
   ]
  },
  {
   "cell_type": "markdown",
   "metadata": {},
   "source": [
    "These are the equations being solved:\n",
    "\n",
    "$\\left(\\frac{\\partial^{2}}{\\partial x^{2}} + \\frac{\\partial^{2}}{\\partial y^{2}}\\right) D \\left( \\frac{\\partial^{2} w_{(x,y)}}{\\partial y^{2}} + \\frac{2 \\partial^{2} w_{(x,y)}}{\\partial x \\partial y} + \\frac{\\partial^{2} w_{(x,y)}}{\\partial x^{2}}\\right) + \\left( \\rho_{m} - \\rho \\right) g w_{(x,y)} = l_{(x,y)}$\n",
    "\n",
    "This is solved using a Fourier transform solution:\n",
    "\n",
    "$W_{(u,v)} = R_{(u,v)} \\cdot L_{(u,v)}$\n",
    "\n",
    "Where $W(u,v)$ is the Fourier transform of the deflections, $L(u,v)$ is the Fourier transform of the surface loads (equal to $\\rho g h$), and $R(u,v)$ is a response function, defined as:\n",
    "\n",
    "$R_{(u,v)} = \\frac{1}{\\left( \\rho_{m} - \\rho \\right) g + D\\left(u^{2} + v^{2}\\right)^{2}}$\n",
    "\n",
    "In the particular case of Curtis' Santa Cruz Mountains problem, we are interested in knowing the rock uplift that is associated with a given amount of crustal thickening.  Noting that $h = t - w$, where $t$ is the thickening, we can rewrite Equation (10) as:\n",
    "\n",
    "$\\left(\\frac{\\partial^{2}}{\\partial x^{2}} + \\frac{\\partial^{2}}{\\partial y^{2}}\\right) D \\left( \\frac{\\partial^{2} w_{(x,y)}}{\\partial y^{2}} + \\frac{2 \\partial^{2} w_{(x,y)}}{\\partial x \\partial y} + \\frac{\\partial^{2} w_{(x,y)}}{\\partial x^{2}}\\right) + \\rho_{m} g w_{(x,y)} = \\rho g t_{(x,y)}$\n",
    "\n",
    "And Equation 12 as:\n",
    "\n",
    "$\\frac{1}{\\rho_{m} g + D\\left(u^{2} + v^{2}\\right)^{2}}$\n",
    "\n",
    "In this case, $l(x,y)$ now becomes the crustal thickening ($t(x,y)$).\n",
    "\n",
    "Once deflections are computed, rock uplift can be computed as $u(x,y) = t(x,y) - w(x,y)$"
   ]
  },
  {
   "cell_type": "code",
   "execution_count": 1,
   "metadata": {},
   "outputs": [],
   "source": [
    "import numpy as np\n",
    "%matplotlib widget\n",
    "import matplotlib.pylab as plt"
   ]
  },
  {
   "cell_type": "markdown",
   "metadata": {},
   "source": [
    "We will use a model with E=50 GPa, h = 20 km as a demonstration.  Values of E=10 GPa, h = 5 km produce way too much deflection.  This is probably due to the fact that this model uses thickening rate (and so $(\\rho_{m} - \\rho)$ in the original form is smaller than $\\rho_{m}$), the fact that the model is not periodic, and that the model does not extend forever in the out-of-plane direction.  Note however, that the fraction of Airy isostacy approaches about what we would like ($f\\approx 0.38$) for the wavelengths of the SCM."
   ]
  },
  {
   "cell_type": "code",
   "execution_count": 2,
   "metadata": {},
   "outputs": [
    {
     "name": "stdout",
     "output_type": "stream",
     "text": [
      "D =  1.1111111111111111e+20\n"
     ]
    }
   ],
   "source": [
    "# Define constants:\n",
    "\n",
    "E = 10E9\n",
    "g = 9.8\n",
    "rho_m = 3200\n",
    "rho = 2700\n",
    "h = 5E3\n",
    "v = 0.25\n",
    "\n",
    "D = E*np.power(h,3) / (12*(1-np.power(v,2)))\n",
    "\n",
    "print('D = ', D)"
   ]
  },
  {
   "cell_type": "code",
   "execution_count": 3,
   "metadata": {},
   "outputs": [],
   "source": [
    "# Define extent of plots:\n",
    "\n",
    "bounding_box = np.array([[5.149823487603397807e+05, 4.162743473135999404e+06],\n",
    "                         [5.592764889708703849e+05, 4.195161883133378811e+06],\n",
    "                         [6.377426705260890303e+05, 4.087951441662845202e+06],\n",
    "                         [5.934485303155583097e+05, 4.055533031665465795e+06]])\n",
    "\n",
    "extent = [np.min(bounding_box[:,0]), np.max(bounding_box[:,0]), np.min(bounding_box[:,1]), np.max(bounding_box[:,1])]"
   ]
  },
  {
   "cell_type": "code",
   "execution_count": 4,
   "metadata": {},
   "outputs": [],
   "source": [
    "# Read thickening grid and define dimensions:\n",
    "\n",
    "import pickle as p\n",
    "(X, Y, UX, UY, UZ) = p.load(open('data/dislocation_safonly_nolock.p','rb'))\n",
    "\n",
    "dx = np.mean(np.diff(X)[1,:])*1000\n",
    "thickening_disloc = UZ*1E6*4*1000 # This will give us units of meters for a 4Myr model\n",
    "\n",
    "disloc_extent = np.array([np.min(X[:]), np.max(X[:]), np.min(Y[:]), np.max(Y[:])])*1E3"
   ]
  },
  {
   "cell_type": "code",
   "execution_count": 5,
   "metadata": {},
   "outputs": [],
   "source": [
    "# Calculate wavenumbers:\n",
    "\n",
    "wx_disloc = np.fft.fftfreq(thickening_disloc.shape[1],d=dx)*2.0*np.pi\n",
    "wy_disloc = np.fft.fftfreq(thickening_disloc.shape[0],d=dx)*2.0*np.pi\n",
    "\n",
    "[WX_disloc, WY_disloc] = np.meshgrid(wx_disloc,wy_disloc)"
   ]
  },
  {
   "cell_type": "code",
   "execution_count": 6,
   "metadata": {},
   "outputs": [],
   "source": [
    "# Build response function:\n",
    "\n",
    "R_disloc = np.power(rho_m*g + D*np.power(np.power(WX_disloc,2)+np.power(WY_disloc,2),2),-1)"
   ]
  },
  {
   "cell_type": "code",
   "execution_count": 7,
   "metadata": {},
   "outputs": [],
   "source": [
    "# Transform thickening grid:\n",
    "\n",
    "T_disloc = np.fft.fft2(thickening_disloc*rho*g)"
   ]
  },
  {
   "cell_type": "code",
   "execution_count": 8,
   "metadata": {},
   "outputs": [],
   "source": [
    "# Convolve and back-transform:\n",
    "\n",
    "W_disloc = R_disloc*T_disloc\n",
    "w_disloc = np.real(np.fft.ifft2(W_disloc))"
   ]
  },
  {
   "cell_type": "code",
   "execution_count": 9,
   "metadata": {},
   "outputs": [
    {
     "data": {
      "application/vnd.jupyter.widget-view+json": {
       "model_id": "71ed6ed130894da2a2398d9bfece9cfd",
       "version_major": 2,
       "version_minor": 0
      },
      "text/plain": [
       "Canvas(toolbar=Toolbar(toolitems=[('Home', 'Reset original view', 'home', 'home'), ('Back', 'Back to previous …"
      ]
     },
     "metadata": {},
     "output_type": "display_data"
    },
    {
     "data": {
      "application/vnd.jupyter.widget-view+json": {
       "model_id": "681133b3d083452e8b1af3099d0cd5c0",
       "version_major": 2,
       "version_minor": 0
      },
      "text/plain": [
       "Canvas(toolbar=Toolbar(toolitems=[('Home', 'Reset original view', 'home', 'home'), ('Back', 'Back to previous …"
      ]
     },
     "metadata": {},
     "output_type": "display_data"
    },
    {
     "data": {
      "application/vnd.jupyter.widget-view+json": {
       "model_id": "2b26828807ff45b4817c92c95c50f28f",
       "version_major": 2,
       "version_minor": 0
      },
      "text/plain": [
       "Canvas(toolbar=Toolbar(toolitems=[('Home', 'Reset original view', 'home', 'home'), ('Back', 'Back to previous …"
      ]
     },
     "metadata": {},
     "output_type": "display_data"
    }
   ],
   "source": [
    "# Calculate rock uplift and plot:\n",
    "\n",
    "u_disloc = thickening_disloc - w_disloc\n",
    "\n",
    "plt.figure()\n",
    "plt.title('Dislocation - Thickening (m)')\n",
    "plt.imshow(thickening_disloc, extent=disloc_extent, origin='lower', vmin = 0, vmax = 2500)\n",
    "plt.axis(extent)\n",
    "plt.colorbar()\n",
    "plt.show()\n",
    "\n",
    "plt.figure()\n",
    "plt.title('Dislocation - Deflection (m)')\n",
    "plt.imshow(w_disloc, extent=disloc_extent, origin='lower', vmin = 0, vmax = 2500)\n",
    "plt.axis(extent)\n",
    "plt.colorbar()\n",
    "plt.show()\n",
    "\n",
    "plt.figure()\n",
    "plt.title('Dislocation - Rock / Surface Uplift (m)')\n",
    "plt.imshow(u_disloc, extent=disloc_extent, origin='lower', vmin = 0, vmax = 2500)\n",
    "plt.axis(extent)\n",
    "plt.colorbar()\n",
    "plt.show()"
   ]
  },
  {
   "cell_type": "code",
   "execution_count": 10,
   "metadata": {},
   "outputs": [],
   "source": [
    "# Read irregular points for EP model and create regular grid:\n",
    "\n",
    "xyz_ep = np.loadtxt('data/EP_UTM_surface_nodes.txt')\n",
    "\n",
    "xy_ep = xyz_ep[:,0:2]\n",
    "z_ep = xyz_ep[:,2] - 20000.0\n",
    "\n",
    "ep_extent = [np.min(xy_ep[:,0]), np.max(xy_ep[:,0]), np.min(xy_ep[:,1]), np.max(xy_ep[:,1])]\n",
    "\n",
    "[Xi, Yi] = np.meshgrid(np.arange(ep_extent[0],ep_extent[1],dx), np.arange(ep_extent[2],ep_extent[3],dx))\n",
    "\n",
    "from scipy.interpolate import griddata\n",
    "thickening_ep = griddata(xy_ep, z_ep, (Xi, Yi), method='cubic', fill_value=0.0)\n"
   ]
  },
  {
   "cell_type": "code",
   "execution_count": 11,
   "metadata": {},
   "outputs": [],
   "source": [
    "# Transform thickening grid and calculate deflections and rock uplift:\n",
    "\n",
    "T_ep = np.fft.fft2(thickening_ep*rho*g)\n",
    "\n",
    "wx_ep = np.fft.fftfreq(thickening_ep.shape[1],d=dx)*2.0*np.pi\n",
    "wy_ep = np.fft.fftfreq(thickening_ep.shape[0],d=dx)*2.0*np.pi\n",
    "[WX_ep, WY_ep] = np.meshgrid(wx_ep,wy_ep)\n",
    "\n",
    "R_ep = np.power(rho_m*g + D*np.power(np.power(WX_ep,2)+np.power(WY_ep,2),2),-1)\n",
    "\n",
    "W_ep = R_ep*T_ep\n",
    "w_ep = np.real(np.fft.ifft2(W_ep))\n",
    "u_ep = thickening_ep - w_ep"
   ]
  },
  {
   "cell_type": "code",
   "execution_count": 12,
   "metadata": {},
   "outputs": [
    {
     "data": {
      "application/vnd.jupyter.widget-view+json": {
       "model_id": "1220778e6805493c8dc7dd3e06ddb733",
       "version_major": 2,
       "version_minor": 0
      },
      "text/plain": [
       "Canvas(toolbar=Toolbar(toolitems=[('Home', 'Reset original view', 'home', 'home'), ('Back', 'Back to previous …"
      ]
     },
     "metadata": {},
     "output_type": "display_data"
    },
    {
     "data": {
      "application/vnd.jupyter.widget-view+json": {
       "model_id": "84c6b47351794fc5a2236d55d98b2947",
       "version_major": 2,
       "version_minor": 0
      },
      "text/plain": [
       "Canvas(toolbar=Toolbar(toolitems=[('Home', 'Reset original view', 'home', 'home'), ('Back', 'Back to previous …"
      ]
     },
     "metadata": {},
     "output_type": "display_data"
    },
    {
     "data": {
      "application/vnd.jupyter.widget-view+json": {
       "model_id": "89d2e77f6e704d5bb150d1ddcaa21d27",
       "version_major": 2,
       "version_minor": 0
      },
      "text/plain": [
       "Canvas(toolbar=Toolbar(toolitems=[('Home', 'Reset original view', 'home', 'home'), ('Back', 'Back to previous …"
      ]
     },
     "metadata": {},
     "output_type": "display_data"
    }
   ],
   "source": [
    "# Calculate rock uplift and plot:\n",
    "\n",
    "%matplotlib widget\n",
    "import matplotlib.pylab as plt\n",
    "\n",
    "u_ep = thickening_ep - w_ep\n",
    "\n",
    "plt.figure()\n",
    "plt.title('Elastoplastic - Thickening (m)')\n",
    "plt.imshow(thickening_ep, extent=ep_extent, origin='lower', vmin = 0, vmax = 2500)\n",
    "plt.axis(extent)\n",
    "plt.colorbar()\n",
    "plt.show()\n",
    "\n",
    "plt.figure()\n",
    "plt.title('Elastoplastic - Deflection (m)')\n",
    "plt.imshow(w_ep, extent=ep_extent, origin='lower', vmin = 0, vmax = 2500)\n",
    "plt.axis(extent)\n",
    "plt.colorbar()\n",
    "plt.show()\n",
    "\n",
    "plt.figure()\n",
    "plt.title('Elastoplastic - Rock / Surface Uplift (m)')\n",
    "plt.imshow(u_ep, extent=ep_extent, origin='lower', vmin = 0, vmax = 2500)\n",
    "plt.axis(extent)\n",
    "plt.colorbar()\n",
    "plt.show()"
   ]
  },
  {
   "cell_type": "code",
   "execution_count": 13,
   "metadata": {},
   "outputs": [],
   "source": [
    "# Read irregular points for E model and create regular grid:\n",
    "\n",
    "xyz_e = np.loadtxt('data/E_UTM_surface_nodes.txt')\n",
    "\n",
    "xy_e = xyz_e[:,0:2]\n",
    "z_e = xyz_e[:,2] - 20000.0\n",
    "\n",
    "e_extent = [np.min(xy_e[:,0]), np.max(xy_e[:,0]), np.min(xy_e[:,1]), np.max(xy_e[:,1])]\n",
    "\n",
    "[Xi, Yi] = np.meshgrid(np.arange(e_extent[0],e_extent[1],dx), np.arange(e_extent[2],e_extent[3],dx))\n",
    "\n",
    "from scipy.interpolate import griddata\n",
    "thickening_e = griddata(xy_e, z_e, (Xi, Yi), method='cubic', fill_value=0.0)\n"
   ]
  },
  {
   "cell_type": "code",
   "execution_count": 14,
   "metadata": {},
   "outputs": [],
   "source": [
    "# Transform thickening grid and calculate deflections and rock uplift:\n",
    "\n",
    "T_e = np.fft.fft2(thickening_e*rho*g)\n",
    "\n",
    "wx_e = np.fft.fftfreq(thickening_e.shape[1],d=dx)*2.0*np.pi\n",
    "wy_e = np.fft.fftfreq(thickening_e.shape[0],d=dx)*2.0*np.pi\n",
    "[WX_e, WY_e] = np.meshgrid(wx_e,wy_e)\n",
    "\n",
    "R_e = np.power(rho_m*g + D*np.power(np.power(WX_e,2)+np.power(WY_e,2),2),-1)\n",
    "\n",
    "W_e = R_e*T_e\n",
    "w_e = np.real(np.fft.ifft2(W_e))\n",
    "u_e = thickening_e - w_e"
   ]
  },
  {
   "cell_type": "code",
   "execution_count": 15,
   "metadata": {},
   "outputs": [
    {
     "data": {
      "application/vnd.jupyter.widget-view+json": {
       "model_id": "a2bb6431328c4a39a734e98022149d4d",
       "version_major": 2,
       "version_minor": 0
      },
      "text/plain": [
       "Canvas(toolbar=Toolbar(toolitems=[('Home', 'Reset original view', 'home', 'home'), ('Back', 'Back to previous …"
      ]
     },
     "metadata": {},
     "output_type": "display_data"
    },
    {
     "data": {
      "application/vnd.jupyter.widget-view+json": {
       "model_id": "e63ee49d8f0c4eaeac0b4f0155adb49e",
       "version_major": 2,
       "version_minor": 0
      },
      "text/plain": [
       "Canvas(toolbar=Toolbar(toolitems=[('Home', 'Reset original view', 'home', 'home'), ('Back', 'Back to previous …"
      ]
     },
     "metadata": {},
     "output_type": "display_data"
    },
    {
     "data": {
      "application/vnd.jupyter.widget-view+json": {
       "model_id": "09700f73946a4ccbbf714d2d7ead9e92",
       "version_major": 2,
       "version_minor": 0
      },
      "text/plain": [
       "Canvas(toolbar=Toolbar(toolitems=[('Home', 'Reset original view', 'home', 'home'), ('Back', 'Back to previous …"
      ]
     },
     "metadata": {},
     "output_type": "display_data"
    }
   ],
   "source": [
    "# Calculate rock uplift and plot:\n",
    "\n",
    "%matplotlib widget\n",
    "import matplotlib.pylab as plt\n",
    "\n",
    "u_e = thickening_e - w_e\n",
    "\n",
    "plt.figure()\n",
    "plt.title('Elastic - Thickening (m)')\n",
    "plt.imshow(thickening_e, extent=e_extent, origin='lower', vmin = 0, vmax = 2500)\n",
    "plt.axis(extent)\n",
    "plt.colorbar()\n",
    "plt.show()\n",
    "\n",
    "plt.figure()\n",
    "plt.title('Elastic - Deflection (m)')\n",
    "plt.imshow(w_e, extent=e_extent, origin='lower', vmin = 0, vmax = 2500)\n",
    "plt.axis(extent)\n",
    "plt.colorbar()\n",
    "plt.show()\n",
    "\n",
    "plt.figure()\n",
    "plt.title('Elastic - Rock / Surface Uplift (m)')\n",
    "plt.imshow(u_e, extent=e_extent, origin='lower', vmin = 0, vmax = 2500)\n",
    "plt.axis(extent)\n",
    "plt.colorbar()\n",
    "plt.show()"
   ]
  },
  {
   "cell_type": "code",
   "execution_count": null,
   "metadata": {
    "jupyter": {
     "source_hidden": true
    }
   },
   "outputs": [],
   "source": []
  },
  {
   "cell_type": "code",
   "execution_count": null,
   "metadata": {},
   "outputs": [],
   "source": []
  }
 ],
 "metadata": {
  "kernelspec": {
   "display_name": "Python 3",
   "language": "python",
   "name": "python3"
  },
  "language_info": {
   "codemirror_mode": {
    "name": "ipython",
    "version": 3
   },
   "file_extension": ".py",
   "mimetype": "text/x-python",
   "name": "python",
   "nbconvert_exporter": "python",
   "pygments_lexer": "ipython3",
   "version": "3.6.13"
  }
 },
 "nbformat": 4,
 "nbformat_minor": 4
}
